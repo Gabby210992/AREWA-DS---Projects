{
 "cells": [
  {
   "cell_type": "code",
   "execution_count": 13,
   "metadata": {},
   "outputs": [
    {
     "name": "stdout",
     "output_type": "stream",
     "text": [
      "first_name: Teryila\n",
      "last_name: Kough\n",
      "location: Makurdi\n",
      "field_of_study: Mathematics (First Class), Data Science and Machine Learning and AI\n",
      "hoobies: Coding, Watching football, Reading, Playing games, and Listening to Music\n",
      "favorite_food: Swallow and Egusi soup\n"
     ]
    }
   ],
   "source": [
    "def build_profile(first, last, **user_info):\n",
    "    \"\"\"Build a dictionary containing everything we know about a user.\"\"\"\n",
    "    profile = {}\n",
    "    profile['first_name'] = first\n",
    "    profile['last_name'] = last\n",
    "    for key, value in user_info.items():\n",
    "        profile[key] = value\n",
    "    return profile\n",
    "\n",
    "\n",
    "user_profile = build_profile('Teryila', 'Kough',\n",
    "    location='Makurdi',\n",
    "    field_of_study=r'Mathematics (First Class), Data Science and Machine Learning and AI',\n",
    "    hoobies=\"Coding, Watching football, Reading, Playing games, and Listening to Music\",\n",
    "    favorite_food=\"Swallow and Egusi soup\",\n",
    "    )\n",
    "\n",
    "\n",
    "for key, value in user_profile.items():\n",
    "    print(f\"{key}: {value}\", end=\"\\n\")"
   ]
  }
 ],
 "metadata": {
  "kernelspec": {
   "display_name": "Gabby",
   "language": "python",
   "name": "python3"
  },
  "language_info": {
   "codemirror_mode": {
    "name": "ipython",
    "version": 3
   },
   "file_extension": ".py",
   "mimetype": "text/x-python",
   "name": "python",
   "nbconvert_exporter": "python",
   "pygments_lexer": "ipython3",
   "version": "3.12.4"
  }
 },
 "nbformat": 4,
 "nbformat_minor": 2
}
