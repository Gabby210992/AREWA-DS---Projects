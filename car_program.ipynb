{
 "cells": [
  {
   "cell_type": "code",
   "execution_count": null,
   "metadata": {},
   "outputs": [],
   "source": []
  },
  {
   "cell_type": "code",
   "execution_count": 1,
   "metadata": {},
   "outputs": [
    {
     "name": "stdout",
     "output_type": "stream",
     "text": [
      "{'manufacturer': 'Toyota', 'model': 'Hilux', 'color': 'Gold', 'tow_package': True}\n"
     ]
    }
   ],
   "source": [
    "def make_car(manufacturer, model, **kwargs):\n",
    "    car_info = {\n",
    "        'manufacturer': manufacturer,\n",
    "        'model': model\n",
    "    }\n",
    "    car_info.update(kwargs)\n",
    "    return car_info\n",
    "\n",
    "# Call the function with required information and additional name-value pairs\n",
    "car = make_car('Toyota', 'Hilux', color='Gold', tow_package=True)\n",
    "\n",
    "# Print the dictionary to make sure all the information was stored correctly\n",
    "print(car)"
   ]
  }
 ],
 "metadata": {
  "kernelspec": {
   "display_name": "Gabby",
   "language": "python",
   "name": "python3"
  },
  "language_info": {
   "codemirror_mode": {
    "name": "ipython",
    "version": 3
   },
   "file_extension": ".py",
   "mimetype": "text/x-python",
   "name": "python",
   "nbconvert_exporter": "python",
   "pygments_lexer": "ipython3",
   "version": "3.12.4"
  }
 },
 "nbformat": 4,
 "nbformat_minor": 2
}
