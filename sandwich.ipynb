{
 "cells": [
  {
   "cell_type": "code",
   "execution_count": 1,
   "metadata": {},
   "outputs": [
    {
     "name": "stdout",
     "output_type": "stream",
     "text": [
      "\n",
      "Making a sandwich with the following items:\n",
      "- ham\n",
      "- cheese\n",
      "- lettuce\n",
      "\n",
      "Making a sandwich with the following items:\n",
      "- turkey\n",
      "- bacon\n",
      "- tomato\n",
      "- mayo\n",
      "\n",
      "Making a sandwich with the following items:\n",
      "- peanut butter\n",
      "- jelly\n"
     ]
    }
   ],
   "source": [
    "def make_sandwich(*items):\n",
    "    \"\"\"Print a summary of the sandwich being ordered.\"\"\"\n",
    "    print(\"\\nMaking a sandwich with the following items:\")\n",
    "    for item in items:\n",
    "        print(f\"- {item}\")\n",
    "\n",
    "# Call the function three times with different number of arguments\n",
    "make_sandwich('ham', 'cheese', 'lettuce')\n",
    "make_sandwich('turkey', 'bacon', 'tomato', 'mayo')\n",
    "make_sandwich('peanut butter', 'jelly')"
   ]
  },
  {
   "cell_type": "code",
   "execution_count": null,
   "metadata": {},
   "outputs": [],
   "source": []
  }
 ],
 "metadata": {
  "kernelspec": {
   "display_name": "Gabby",
   "language": "python",
   "name": "python3"
  },
  "language_info": {
   "codemirror_mode": {
    "name": "ipython",
    "version": 3
   },
   "file_extension": ".py",
   "mimetype": "text/x-python",
   "name": "python",
   "nbconvert_exporter": "python",
   "pygments_lexer": "ipython3",
   "version": "3.12.4"
  }
 },
 "nbformat": 4,
 "nbformat_minor": 2
}
